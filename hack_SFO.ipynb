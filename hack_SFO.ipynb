{
 "cells": [
  {
   "cell_type": "code",
   "execution_count": null,
   "id": "15c51abf-b788-43c8-91ea-de83174d6db0",
   "metadata": {},
   "outputs": [],
   "source": [
    "import pandas as pd\n",
    "import numpy as np\n",
    "import seaborn as sns\n",
    "from sklearn.svm import SVR\n",
    "import matplotlib.pyplot as plt\n",
    "from sklearn.metrics import r2_score\n",
    "from sklearn.model_selection import train_test_split"
   ]
  },
  {
   "cell_type": "code",
   "execution_count": null,
   "id": "3b661fb6-30bb-4ab0-86b7-cfec5baf52af",
   "metadata": {},
   "outputs": [],
   "source": [
    "df1 = pd.read_csv('npo_clnts_test.csv')\n",
    "df2 = pd.read_csv('npo_cntrbtrs_test.csv')\n",
    "df3 = pd.read_csv('npo_trnsctns_test.csv')"
   ]
  },
  {
   "cell_type": "code",
   "execution_count": null,
   "id": "a6aaee08-dd35-4917-ab3b-cd2b23d93bae",
   "metadata": {},
   "outputs": [],
   "source": []
  },
  {
   "cell_type": "code",
   "execution_count": null,
   "id": "4a24540f-554a-4aea-832b-95f2f7ade75e",
   "metadata": {},
   "outputs": [],
   "source": [
    "df = pd.merge(df1, df2, on=['clnt_id'])\n",
    "df = pd.merge(df, df3, on=['npo_accnt_id'])"
   ]
  },
  {
   "cell_type": "code",
   "execution_count": null,
   "id": "f6111f6d-49ac-4a69-875a-fe8f60fc6b0c",
   "metadata": {},
   "outputs": [],
   "source": [
    "df = df.rename(columns={'npo_accnt_status_year': 'year_oper'})\n",
    "df = df.rename(columns={'npo_accnt_status_month': 'month_oper'})"
   ]
  },
  {
   "cell_type": "code",
   "execution_count": null,
   "id": "20549a99-32a8-4f83-bcfa-5fe2e2e6bb80",
   "metadata": {},
   "outputs": [],
   "source": [
    "\n",
    "\n",
    "\n"
   ]
  },
  {
   "cell_type": "code",
   "execution_count": null,
   "id": "1ad1bfc0-8a57-425e-8ee8-980884a0730e",
   "metadata": {},
   "outputs": [],
   "source": [
    "d1 = np.array(df['age'])\n",
    "d2 = np.array(df['brth_yr'])\n",
    "df['Возраст озарения'] = d1 + d2"
   ]
  },
  {
   "cell_type": "code",
   "execution_count": null,
   "id": "01f4f643-f080-48d9-834c-f4297af414c5",
   "metadata": {},
   "outputs": [],
   "source": [
    "d = np.array(df['month_oper'])\n",
    "l = np.arange(len(df))\n",
    "l[d>=1][d[d>=1]<=3] = 1\n",
    "l[d>=4][d[d>=4]<=6] = 2\n",
    "l[d>=7][d[d>=7]<=9] = 3\n",
    "l[d>=10][d[d>=10]<=12] = 4"
   ]
  },
  {
   "cell_type": "code",
   "execution_count": null,
   "id": "b2d56a49-5585-409c-af74-2963c72094c2",
   "metadata": {},
   "outputs": [],
   "source": [
    "df['quarter'] = pd.cut(df['month_oper'], bins=4)"
   ]
  },
  {
   "cell_type": "code",
   "execution_count": null,
   "id": "5e9b67d4-1f17-4150-9451-771d1b23ebdf",
   "metadata": {},
   "outputs": [],
   "source": [
    "vrot = {2014: 5554, 2015:5965, 2016:6204, 2017: 7800, 2018: 11163, 2019:11280, 2020:12130, 2021:12792, 2022:15279}\n",
    "col_year = np.array(df['npo_accnt_status_year'])\n",
    "col_mrot = np.arange(len(df))\n",
    "for i in vrot:\n",
    "    col_mrot[col_year == i] = vrot[i]\n",
    "df['mrot'] = col_mrot"
   ]
  },
  {
   "cell_type": "code",
   "execution_count": null,
   "id": "a5106019-ca50-41fa-b89d-1554a5e400c1",
   "metadata": {},
   "outputs": [],
   "source": [
    "\n",
    "\n",
    "\n"
   ]
  },
  {
   "cell_type": "code",
   "execution_count": null,
   "id": "9e205a58-9581-4427-be14-c4cace102316",
   "metadata": {},
   "outputs": [],
   "source": [
    "df2 = pd.read_csv('нужен коэффицент к мрот.csv')\n",
    "df2 = df2.drop(columns=['Unnamed: 0', 'npo_sum', 'npo_operation_date'])\n",
    "df = pd.merge(df, df2, on=['clnt_id', 'year_oper'])"
   ]
  },
  {
   "cell_type": "code",
   "execution_count": null,
   "id": "275ec388-6e9d-4cd1-8cb6-839401a6f1d1",
   "metadata": {},
   "outputs": [],
   "source": [
    "col_mean = np.array(df['mean'])\n",
    "col_mrot = np.array(df['mrot'])\n",
    "df['coef'] = col_mean/col_mrot\n",
    "df = df.drop(df[df['coef'] > 5].index)"
   ]
  },
  {
   "cell_type": "code",
   "execution_count": null,
   "id": "89d150e5-1e8b-483b-acb8-4e5701797827",
   "metadata": {},
   "outputs": [],
   "source": [
    "neft = pd.read_csv('neft.csv')\n",
    "neft = neft.drop(columns='Unnamed: 0')\n",
    "neft.columns = ['year_oper', 'month_oper', 'neft']"
   ]
  },
  {
   "cell_type": "code",
   "execution_count": null,
   "id": "51662101-3cf5-470b-81a2-7bbeafe17596",
   "metadata": {},
   "outputs": [],
   "source": [
    "gaz = pd.read_csv('gaz.csv')\n",
    "gaz = gaz.drop(columns='Unnamed: 0')\n",
    "gaz.columns = ['year_oper', 'month_oper', 'gaz']"
   ]
  },
  {
   "cell_type": "code",
   "execution_count": null,
   "id": "f543ec02-5e71-49e0-a689-83d72a8901c6",
   "metadata": {},
   "outputs": [],
   "source": [
    "dollar = pd.read_csv('dollar.csv')\n",
    "dollar = dollar.drop(columns='Unnamed: 0')\n",
    "dollar.columns = ['year_oper', 'month_oper', 'dollar']"
   ]
  },
  {
   "cell_type": "code",
   "execution_count": null,
   "id": "bd990ef3-4fc8-4a6d-8493-5a20a1b098d1",
   "metadata": {},
   "outputs": [],
   "source": [
    "df = pd.merge(df, neft, on=['year_oper', 'month_oper'])\n",
    "df = pd.merge(df, gaz, on=['year_oper', 'month_oper'])\n",
    "df = pd.merge(df, dollar, on=['year_oper', 'month_oper'])"
   ]
  },
  {
   "cell_type": "code",
   "execution_count": null,
   "id": "e4756bc8-0510-4148-874a-4127341ae400",
   "metadata": {},
   "outputs": [],
   "source": [
    "col_mean = np.array(df['mean'])\n",
    "\n",
    "col_dollar = np.array(df['dollar'])\n",
    "col_neft = np.array(df['neft'])\n",
    "col_gaz = np.array(df['gaz'])\n",
    "\n",
    "df['coef_dollar'] = col_mean/col_dollar\n",
    "df['coef_neft'] = col_mean/col_neft\n",
    "df['coef_gaz'] = col_mean/col_gaz"
   ]
  },
  {
   "cell_type": "code",
   "execution_count": null,
   "id": "9e6893f0-5cbf-4125-abbb-0939530ba8da",
   "metadata": {},
   "outputs": [],
   "source": [
    "key = {2014:10.5, 2015:11.5, 2016:10.5, 2017: 8.25, 2018: 7.5, 2019:6.5, 2020:4.5, 2021:7.5, 2022:8}\n",
    "col_year = np.array(df['year_oper'])\n",
    "col_key = np.arange(len(df))\n",
    "for i in key:\n",
    "    col_key[col_year == i] = key[i]\n",
    "df['key'] = col_mrot"
   ]
  },
  {
   "cell_type": "code",
   "execution_count": null,
   "id": "3957b89b-423e-4e6f-b1ff-e778ed572381",
   "metadata": {},
   "outputs": [],
   "source": [
    "\n",
    "\n",
    "\n"
   ]
  },
  {
   "cell_type": "code",
   "execution_count": null,
   "id": "3aeabef6-8599-44a7-86b2-7a122f8c2a8a",
   "metadata": {},
   "outputs": [],
   "source": [
    "data_clusters = pd.read_csv('data_to_clusters.csv')\n",
    "data_clusters = data_clusters.drop(columns='Unnamed: 0')\n",
    "data_clusters = data_clusters.drop_duplicates(keep=False)"
   ]
  },
  {
   "cell_type": "code",
   "execution_count": null,
   "id": "8ad9a61f-bca1-4c33-8c2b-e6487c7d9d1a",
   "metadata": {},
   "outputs": [],
   "source": [
    "data_clusters2 = pd.read_csv('clusters_id.csv')\n",
    "data_clusters2 = data_clusters2.drop(columns='Unnamed: 0')\n",
    "data_clusters2 = data_clusters2.drop_duplicates(keep=False)"
   ]
  },
  {
   "cell_type": "code",
   "execution_count": null,
   "id": "2c95a26d-831d-4728-aa53-af825e29ace3",
   "metadata": {},
   "outputs": [],
   "source": [
    "data_clusters2.columns = ['cluster', 'clnt_id']"
   ]
  },
  {
   "cell_type": "code",
   "execution_count": null,
   "id": "d29256cd-f92a-4dbb-85b1-4bd7c82d526d",
   "metadata": {},
   "outputs": [],
   "source": [
    "data = pd.merge(data_clusters, data_clusters2, on=['clnt_id'])\n",
    "data = data.drop_duplicates(keep=False)\n",
    "data = data.drop(columns='accnt_pnsn_schm')"
   ]
  },
  {
   "cell_type": "code",
   "execution_count": null,
   "id": "a117be98-2399-439e-8bef-1d8f357d48c7",
   "metadata": {},
   "outputs": [],
   "source": [
    "result = pd.read_csv('ебаные кластера.csv')\n",
    "result = result.drop(columns='Unnamed: 0')\n",
    "result = result.drop_duplicates(keep=False)"
   ]
  },
  {
   "cell_type": "code",
   "execution_count": null,
   "id": "8fe692cb-8acf-4698-9044-fec3ba616dc3",
   "metadata": {},
   "outputs": [],
   "source": [
    "data = pd.merge(data, result, on=['clnt_id'])"
   ]
  },
  {
   "cell_type": "code",
   "execution_count": null,
   "id": "8dc64e15-b029-46b6-a730-e7b8bf75413c",
   "metadata": {},
   "outputs": [],
   "source": [
    "X = result2.drop(columns=['npo_sum','npo_operation_date'])\n",
    "Y = result2['npo_sum']\n",
    "X_train, X_test, y_train, y_test = train_test_split(X, Y, test_size=0.05, random_state=42)"
   ]
  },
  {
   "cell_type": "code",
   "execution_count": null,
   "id": "d3c2982b-f265-4cae-b5c6-c5c5f8882c4a",
   "metadata": {},
   "outputs": [],
   "source": [
    "data_clusters.to_csv('final_data_clusters.csv', index= False)"
   ]
  },
  {
   "cell_type": "code",
   "execution_count": null,
   "id": "6007b141-162c-41dd-a5d6-7e86a2233c66",
   "metadata": {},
   "outputs": [],
   "source": []
  },
  {
   "cell_type": "code",
   "execution_count": null,
   "id": "ec63be88-4b16-402a-a946-630f96121f7f",
   "metadata": {},
   "outputs": [],
   "source": []
  },
  {
   "cell_type": "code",
   "execution_count": null,
   "id": "6e14e735-1982-4801-af3d-10fb6811222c",
   "metadata": {},
   "outputs": [],
   "source": []
  }
 ],
 "metadata": {
  "kernelspec": {
   "display_name": "Python 3 (ipykernel)",
   "language": "python",
   "name": "python3"
  },
  "language_info": {
   "codemirror_mode": {
    "name": "ipython",
    "version": 3
   },
   "file_extension": ".py",
   "mimetype": "text/x-python",
   "name": "python",
   "nbconvert_exporter": "python",
   "pygments_lexer": "ipython3",
   "version": "3.10.2"
  }
 },
 "nbformat": 4,
 "nbformat_minor": 5
}
